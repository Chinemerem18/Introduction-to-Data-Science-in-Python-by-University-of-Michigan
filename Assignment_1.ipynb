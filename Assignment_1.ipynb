{
  "nbformat": 4,
  "nbformat_minor": 0,
  "metadata": {
    "colab": {
      "name": "Assignment 1.ipynb",
      "provenance": [],
      "collapsed_sections": [],
      "authorship_tag": "ABX9TyPzD4NceOFFPlZ8iR2XdZzn",
      "include_colab_link": true
    },
    "kernelspec": {
      "name": "python3",
      "display_name": "Python 3"
    }
  },
  "cells": [
    {
      "cell_type": "markdown",
      "metadata": {
        "id": "view-in-github",
        "colab_type": "text"
      },
      "source": [
        "<a href=\"https://colab.research.google.com/github/Chinemerem18/Introduction-to-Data-Science-in-Python-by-University-of-Michigan/blob/master/Assignment_1.ipynb\" target=\"_parent\"><img src=\"https://colab.research.google.com/assets/colab-badge.svg\" alt=\"Open In Colab\"/></a>"
      ]
    },
    {
      "cell_type": "markdown",
      "metadata": {
        "id": "eMRiAs5seohO"
      },
      "source": [
        "## Part A\n",
        "\n",
        "Find a list of all of the names in the following string using regex.\n"
      ]
    },
    {
      "cell_type": "code",
      "metadata": {
        "id": "hK5hUZs1esbY"
      },
      "source": [
        "import re\n",
        "def names():\n",
        "    simple_string = \"\"\"Amy is 5 years old, and her\n",
        "    sister Mary is 2 years old. \n",
        "    Ruth and Peter, their parents, have 3 kids.\"\"\"\n",
        "\n",
        "    # YOUR CODE HERE\n",
        "    names = re.findall('[A-Z][a-z]{1,10}', simple_string)\n",
        "    return names\n",
        "    #raise NotImplementedError()\n",
        "names()"
      ],
      "execution_count": null,
      "outputs": []
    },
    {
      "cell_type": "markdown",
      "metadata": {
        "id": "u-wrXHTrey5F"
      },
      "source": [
        "## Part B\n",
        "\n",
        "The dataset file in [assets/grades.txt](assets/grades.txt) contains a line separated list of people with their grade in \n",
        "a class. Create a regex to generate a list of just those students who received a B in the course."
      ]
    },
    {
      "cell_type": "code",
      "metadata": {
        "id": "QPwwAIuNe9FI"
      },
      "source": [
        "import re\n",
        "def grades():\n",
        "    with open (\"assets/grades.txt\", \"r\") as file:\n",
        "        grades = file.read()\n",
        "    gradess = re.split(\"[\\n]\", grades)\n",
        "    gradenames = []\n",
        "    for name in gradess:\n",
        "        namelist = name.split(\": \")\n",
        "        if \"B\" in namelist[1] :\n",
        "            gradenames.append(namelist[0])\n",
        "    return gradenames\n",
        "    #raise NotImplementedError()\n",
        "grades()\n",
        "   "
      ],
      "execution_count": null,
      "outputs": []
    }
  ]
}